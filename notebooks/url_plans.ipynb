{
 "cells": [
  {
   "cell_type": "code",
   "execution_count": 4,
   "metadata": {
    "collapsed": true
   },
   "outputs": [],
   "source": [
    "# Known API URLs playmaker will hit\n",
    "import requests\n",
    "import json"
   ]
  },
  {
   "cell_type": "code",
   "execution_count": 6,
   "metadata": {},
   "outputs": [],
   "source": [
    "bearer_token = \"BQCGHfxxbKqI7J8INX69Lii4EXQ1MmhK-seG27vgy7kLJ9lt016egyaEvv9VxQo9OKvI2PpO5xY2l8dVMLlnNKn7KkWvFURIgvT4dcmYWzfq_7SbvFaJAe2ex5xwfKfIiUNJVnS3ddshHbdAf8fJNEJhjVSHZyLfYotPJ3izr7u1mNI9yaNWxN0YXBpoxTKO3YRV_wc8SAM2x_Brr1a79McW0x6f1eehDi9s\"\n",
    "headers = {\n",
    "    \"Accept\": \"application/json\",\n",
    "    \"Content-Type\" : \"application/json\",\n",
    "    \"Authorization\" : \"Bearer \" + bearer_token\n",
    "}"
   ]
  },
  {
   "cell_type": "code",
   "execution_count": 11,
   "metadata": {},
   "outputs": [],
   "source": [
    "root_url = \"https://api.spotify.com/v1\"\n",
    "rec_genres_path = \"recommendations/available-genre-seeds\"\n",
    "param_prefixes = [\"min\", \"max\", \"target\"]\n",
    "param_features = [\n",
    "    'acousticness',\n",
    "    'danceability',\n",
    "    'duration_ms',\n",
    "    'energy',\n",
    "    'instrumentalness',\n",
    "    'key',\n",
    "    'liveness',\n",
    "    'loudness',\n",
    "    'mode',\n",
    "    'speechiness',\n",
    "    'tempo',\n",
    "    'time_signature',\n",
    "    'valence'\n",
    "]\n",
    "param_seeds = ['seed_artists', 'seed_tracks', 'seed_genres'] #limit 5 comma separated total\n",
    "example_params = {\n",
    "    \"limit\": 10,\n",
    "    \"market\": \"ES\",\n",
    "    \"seed_artists\": \"4NHQUGzhtTLFvgF5SZesLK\",\n",
    "    \"seed_genres\": \"classical,country\",\n",
    "    \"seed_tracks\": \"0c6xIDDpzE81m2q797ordA\"}\n",
    "\n",
    "limit=20\n",
    "generate_recs_url = 'recommendations'"
   ]
  },
  {
   "cell_type": "code",
   "execution_count": null,
   "metadata": {
    "collapsed": true
   },
   "outputs": [],
   "source": [
    "def add_params(url, param_dict):\n",
    "    if '?' not in url:\n",
    "        url += '?'\n",
    "    for n, v in param_dict.values():\n",
    "        url += \"%s=%s&\" % (n,v)\n",
    "    \n",
    "    return url.strip('&')"
   ]
  },
  {
   "cell_type": "code",
   "execution_count": 12,
   "metadata": {
    "collapsed": true
   },
   "outputs": [],
   "source": [
    "\n",
    "resp = requests.get(root_url + generate_recs_url, headers=headers)"
   ]
  },
  {
   "cell_type": "code",
   "execution_count": 14,
   "metadata": {
    "collapsed": true
   },
   "outputs": [],
   "source": [
    "# Get users top tracks or artists\n",
    "top_url = \"me/top/{type}\"\n",
    "type_choices = ['artists', 'tracks']\n",
    "time_ranges = ['short_term', 'medium_term', 'long_term']\n",
    "limit = [0,50] #maybe higher\n",
    "offset = [0,50] #maybe higher"
   ]
  },
  {
   "cell_type": "code",
   "execution_count": 15,
   "metadata": {
    "collapsed": true
   },
   "outputs": [],
   "source": [
    "# Get users recently played\n",
    "recently_played_url = \"me/player/recently-played\""
   ]
  },
  {
   "cell_type": "code",
   "execution_count": 17,
   "metadata": {
    "collapsed": true
   },
   "outputs": [],
   "source": [
    "# Get users playlists\n",
    "my_playlists_url = \"me/playlists\"\n",
    "# Get playlist tracks (playlist_id required)\n",
    "playlist_tracks_url = \"playlists/{playlist_id}/tracks\""
   ]
  },
  {
   "cell_type": "code",
   "execution_count": 18,
   "metadata": {
    "collapsed": true
   },
   "outputs": [],
   "source": [
    "# Search url (seems deterministic) - could do post filter by popularity or by liked artists, etc\n",
    "search_url = \"search\"\n",
    "q = \"diplo\"\n",
    "type_choices = ['track', 'artist'] # Can't do genre"
   ]
  },
  {
   "cell_type": "code",
   "execution_count": 19,
   "metadata": {
    "collapsed": true
   },
   "outputs": [],
   "source": [
    "# Can get audio features like for kmeans\n",
    "features_url = \"audio-features/{track_id}\"\n",
    "\n",
    "# Can get bulk features (like for a playlist)\n",
    "bulk_features_url = \"audio-features\"\n",
    "ids = \"6DCZcSspjsKoFjzjrWoCdn,6DCZcSspjsKoFjzjrWoCdn\"\n",
    "\n",
    "#Can also get audio analysis\n",
    "analysis_url = \"audio-analysis/{id}\"\n",
    "#Results have sections(~10-20/song), bars, beats, tatums, segments (~3 segments/sec )"
   ]
  },
  {
   "cell_type": "code",
   "execution_count": null,
   "metadata": {
    "collapsed": true
   },
   "outputs": [],
   "source": []
  }
 ],
 "metadata": {
  "kernelspec": {
   "display_name": "Python 2",
   "language": "python",
   "name": "python2"
  },
  "language_info": {
   "codemirror_mode": {
    "name": "ipython",
    "version": 2
   },
   "file_extension": ".py",
   "mimetype": "text/x-python",
   "name": "python",
   "nbconvert_exporter": "python",
   "pygments_lexer": "ipython2",
   "version": "2.7.14"
  }
 },
 "nbformat": 4,
 "nbformat_minor": 2
}
