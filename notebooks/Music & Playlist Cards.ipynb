{
 "cells": [
  {
   "cell_type": "code",
   "execution_count": 1,
   "metadata": {},
   "outputs": [],
   "source": [
    "import matplotlib as mpl\n",
    "import matplotlib.pyplot as plt\n",
    "import requests\n",
    "import spotipy\n",
    "import spotipy.util as util\n",
    "import json\n",
    "import numpy as np\n",
    "from collections import defaultdict\n",
    "\n",
    "CLIENT_ID = '06fdc33f688440e6bff40f6eb930f21c'\n",
    "CLIENT_SECRET = 'f83c328423054a73a3daa9ae9045e538'\n",
    "REDIRECT_URI = 'http://localhost/'\n",
    "SPOTIFY_SCOPE = 'user-library-read playlist-modify-public'\n",
    "username = 'james.hoke.peacock'\n",
    "\n",
    "import pandas as pd\n",
    "from mpl_toolkits.mplot3d import Axes3D\n",
    "import numpy as np\n",
    "import seaborn as sns\n",
    "%matplotlib inline"
   ]
  },
  {
   "cell_type": "code",
   "execution_count": 2,
   "metadata": {},
   "outputs": [
    {
     "name": "stdout",
     "output_type": "stream",
     "text": [
      "BQCxJ8XvNONHvGtnbiqidrDeE0LIGbUEyS-kl9BUSbpqAumLhN04zZFNPVbL6y9bEif_Ie-FKt6tG2jrdukYhDDsgG0LD4xXZw9hPbOBgX4llz2PfUXaUGWn45FhEMhIXIV1vgiIZPYuJ5txVsaZOosDA9ANQBTUiIyAFKizMQdqXGkp6M1ZWVc9HEKpapeFK5yaBegblvWw8ACpHjiSaDGdXA-lU5KuBHVt\n"
     ]
    }
   ],
   "source": [
    "token = util.prompt_for_user_token(username, SPOTIFY_SCOPE, client_id=CLIENT_ID, client_secret=CLIENT_SECRET, redirect_uri=REDIRECT_URI)\n",
    "sp = spotipy.Spotify(auth=token)\n",
    "print token"
   ]
  },
  {
   "cell_type": "code",
   "execution_count": 3,
   "metadata": {},
   "outputs": [],
   "source": [
    "# Define a function for a bar plot\n",
    "def barplot(x_data, y_data, error_data, x_label, y_label, title):\n",
    "\n",
    "    _, ax = plt.subplots()\n",
    "    # Draw bars, position them in the center of the tick mark on the x-axis\n",
    "    ax.bar(x_data, y_data, color = '#539caf', align = 'center')\n",
    "    # Draw error bars to show standard deviation, set ls to 'none'\n",
    "    # to remove line between points\n",
    "    ax.errorbar(x_data, y_data, yerr = error_data, color = '#297083', ls = 'none', lw = 2, capthick = 2)\n",
    "    ax.set_ylabel(y_label, rotation='horizontal')\n",
    "    ax.set_xlabel(x_label)\n",
    "    ax.set_title(title)\n",
    "    plt.xticks(rotation=45)\n"
   ]
  },
  {
   "cell_type": "code",
   "execution_count": 4,
   "metadata": {},
   "outputs": [],
   "source": [
    "def mean_and_std(mat):\n",
    "    # Assumes summing vertically. Horizontal dimension preserved\n",
    "    npmat = np.array(mat)\n",
    "    mean = np.mean(npmat, axis=0)\n",
    "    std = np.std(npmat, axis=0)\n",
    "    return mean, std\n",
    "    "
   ]
  },
  {
   "cell_type": "code",
   "execution_count": 5,
   "metadata": {},
   "outputs": [],
   "source": [
    "def to_key(k):\n",
    "    return [\"C\",\"D♭\",\"D\",\"E♭\",\"E\",\"F\",\"F#\",\"G\",\"A♭\",\"A\", \"B♭\",\"B\"][k]\n",
    "\n",
    "def to_camelot(k, reverse=False):\n",
    "    \n",
    "    if reverse and k.endswith(\"B\"):\n",
    "        return major[int(k[:-1])] + \"Major\"\n",
    "    elif reverse:\n",
    "        return minor[int(k[:-1])] + \"Minor\"\n",
    "        \n",
    "    k,m = k.split(\" \")\n",
    "    major = [\"_\", \"B\", \"F#\", \"D♭\", \"A♭\", \"E♭\", \"B♭\", \"F\", \"C\", \"G\", \"D\", \"A\", \"E\"]\n",
    "    minor = [\"_\", \"A♭\", \"E♭\", \"B♭\", \"F\", \"C\", \"G\", \"D\", \"A\", \"E\", \"B\", \"F#\", \"D♭\"]        \n",
    "    \n",
    "    if m == \"Major\":\n",
    "        return major.index(k), \"B\"\n",
    "    else:\n",
    "        return minor.index(k), \"A\"\n",
    "    \n",
    "def m_change(m):\n",
    "    if m == \"A\":\n",
    "        return \"B\"\n",
    "    else:\n",
    "        return \"A\"\n",
    "    \n",
    "def next_song_key(song_key, choice=0):\n",
    "    k,m = to_camelot(song_key)\n",
    "    \n",
    "    cs = [(k+1,m), (k-1,m), (k,m_change(m)), (k+2, m), (k+3,m)]\n",
    "    # JAWS mix is +7 or -5\n",
    "    # Flip is across wheel +/- 6\n",
    "    # pay attention is +3\n",
    "    # most common is +1\n",
    "    # also harmonic is -1\n",
    "    # other common is +0 B->A\n",
    "    # energy boost is +2 and change energy level (use sparingly)\n",
    "    # other pay attention is +9\n",
    "    \n",
    "    new_k, new_m = cs[choice]\n",
    "    \n",
    "    return to_camelot(str(new_k)+new_m, True)\n",
    "    \n",
    "    \n",
    "    \n"
   ]
  },
  {
   "cell_type": "code",
   "execution_count": 16,
   "metadata": {},
   "outputs": [],
   "source": [
    "def hist_viz(song_data, features, n_bins=15):\n",
    "    ppd = pd.DataFrame(data=song_data,columns=features)\n",
    "    ppd.hist(bins=[i/float(n_bins) for i in range(n_bins+1)], color='steelblue', edgecolor='black', linewidth=1.0,\n",
    "               xlabelsize=8, ylabelsize=8, grid=False, density=0, sharey=True) \n",
    "    plt.tight_layout(rect=(0, 0, 1.2, 1.2))\n"
   ]
  },
  {
   "cell_type": "code",
   "execution_count": 20,
   "metadata": {},
   "outputs": [],
   "source": [
    "FEATURE_VECTOR = [\n",
    "#     'acousticness',\n",
    "    'danceability',\n",
    "#     'duration_ms',\n",
    "    'energy',\n",
    "#     'instrumentalness',\n",
    "    'key',\n",
    "#     'liveness',\n",
    "#     'loudness',\n",
    "    'mode',\n",
    "#     'speechiness',\n",
    "    'tempo',\n",
    "#     'time_signature',\n",
    "    'valence'\n",
    "]\n",
    "def fetch_and_viz(song_uris, display_songs=False):\n",
    "    track_features = sp.audio_features(song_uris)\n",
    "    features = [u'energy', u'tempo', u'instrumentalness', u'danceability', u'key', u'valence', u'loudness', u'mode']\n",
    "    features = FEATURE_VECTOR\n",
    "    song_data = []\n",
    "    if display_songs:\n",
    "        print(\"Songs Featured\")\n",
    "        print([sp.track(track['uri']['name']) for track in track_features])\n",
    "    for track in track_features:\n",
    "        vals = {}\n",
    "        for f in features:\n",
    "            vals[f] = track[f]\n",
    "        \n",
    "        if 'tempo' in vals:\n",
    "            vals['tempo'] = float((vals['tempo'] - 24)) / 204\n",
    "        if 'key' in vals:\n",
    "            vals['key'] /= float(12)\n",
    "#         vals['loudness'] = float(vals['loudness'] + 10) / 11\n",
    "        \n",
    "        song_data.append([vals[f] for f in features]) # ensure ordering rather than using .values()\n",
    "    hist_viz(song_data, features)\n",
    "    \n",
    "def mean_std_dev_vix(song_data):\n",
    "    mean, std_dev = mean_and_std(song_data)\n",
    "    barplot(x_data = features\n",
    "        , y_data = mean\n",
    "        , error_data = std_dev\n",
    "        , x_label = 'Features'\n",
    "        , y_label = 'Values'\n",
    "        , title = 'Playlist Analysis')\n",
    "    plt.ylim([0,1])\n"
   ]
  },
  {
   "cell_type": "code",
   "execution_count": 13,
   "metadata": {},
   "outputs": [],
   "source": [
    "def vizualize_playlist(playlist_uri, display_songs=False):\n",
    "    plid = playlist_uri.split(\":\")[-1]\n",
    "    plist =  sp._get(\"playlists/%s\" % (plid))\n",
    "    print(plist['name'])\n",
    "    track_results = sp._get(\"playlists/%s/tracks\" % (plid), limit=100, offset=0,market='US')\n",
    "    all_song_uris = [track[u'track'][u'uri'] for track in track_results['items']]\n",
    "    fetch_and_viz(all_song_uris, display_songs)\n",
    "    \n",
    "def vizualize_song(song_uri):\n",
    "    fetch_and_viz([song_uri])"
   ]
  },
  {
   "cell_type": "code",
   "execution_count": 9,
   "metadata": {},
   "outputs": [],
   "source": [
    "# fetch_and_viz(['spotify:track:4BdGO1CaObRD4La9l5Zanz'])\n",
    "# fetch_and_viz(['spotify:track:1ROBixGgXrYlcCcrBfxAoy'])\n",
    "# Foster the people and Deadmau\n",
    "# fetch_and_viz(['spotify:track:4BdGO1CaObRD4La9l5Zanz','spotify:track:1ROBixGgXrYlcCcrBfxAoy'], display_songs=True)"
   ]
  },
  {
   "cell_type": "code",
   "execution_count": 14,
   "metadata": {},
   "outputs": [],
   "source": [
    "groove_theory_uri='spotify:user:spotify:playlist:37i9dQZF1DX1tW4VlEfDSS' #dance/disco\n",
    "rap_caviar_uri = 'spotify:user:spotify:playlist:37i9dQZF1DX0XUsuxWHRQd' # rap/hip/hop\n",
    "# pollen_uri = 'spotify:user:spotify:playlist:37i9dQZF1DWWBHeXOYZf74' # casual pop, all good songs\n",
    "chill_n_bassy_uri = 'spotify:user:james.hoke.peacock:playlist:0Xl3RIy0jPlv3axAB1pMoR' # electronic\n",
    "house_home_uri = 'spotify:user:heathrfeathr:playlist:3xwAMNQ6hHChEkG8469Iy1' # deep techno\n",
    "# skrt_uri = 'spotify:user:miragefx:playlist:0JQJjjtY4GRaYgX1c8Qeo2' # casual pop\n",
    "most_necessary_uri = 'spotify:user:spotify:playlist:37i9dQZF1DX2RxBh64BHjQ' # rap/hip/hop (new wave - lil pump, xxx)\n",
    "this_is_tim_uri = 'spotify:user:spotify:playlist:37i9dQZF1DX1PQl5Hsjdb8' # country\n",
    "this_is_metallica = 'spotify:user:spotify:playlist:37i9dQZF1DXbj9Ksq4BAdj' # rock\n",
    "african_heat_uri = 'spotify:user:spotify:playlist:37i9dQZF1DWYkaDif7Ztbp' # afro"
   ]
  },
  {
   "cell_type": "code",
   "execution_count": 25,
   "metadata": {},
   "outputs": [
    {
     "name": "stdout",
     "output_type": "stream",
     "text": [
      "pop 3.28571428571\n",
      "electropop 2.0\n",
      "r&b 1.57142857143\n",
      "alternative r&b 1.42857142857\n",
      "pop rap 1.42857142857\n",
      "pop 0.571428571429\n",
      "reggaeton 0.428571428571\n",
      "australian indie 0.428571428571\n",
      "latin 0.428571428571\n",
      "irish pop 0.428571428571\n",
      "vapor soul 1.42857142857\n",
      "electropop 1.0\n",
      "vapor twitch 0.857142857143\n",
      "pop 0.714285714286\n",
      "indietronica 0.714285714286\n"
     ]
    }
   ],
   "source": [
    "sativa_uri = 'spotify:user:12169714076:playlist:2BN9drdKaJWE8lYONYxgKz'\n",
    "sunnier_uri = 'spotify:user:12169714076:playlist:7yJV6RL9lBqe427rvqCUid'\n",
    "clouds_uri = 'spotify:user:12169714076:playlist:1gR0PzOwbLYwxECgtIvbty'\n",
    "# vizualize_playlist(sativa_uri)\n",
    "# vizualize_playlist(sunnier_uri)\n",
    "# vizualize_playlist(clouds_uri)\n",
    "get_genres_from_playlst(sativa_uri)\n",
    "get_genres_from_playlst(sunnier_uri)\n",
    "get_genres_from_playlst(clouds_uri)"
   ]
  },
  {
   "cell_type": "code",
   "execution_count": 11,
   "metadata": {
    "scrolled": true
   },
   "outputs": [
    {
     "name": "stdout",
     "output_type": "stream",
     "text": [
      "Most Necessary\n"
     ]
    },
    {
     "ename": "KeyError",
     "evalue": "'loudness'",
     "output_type": "error",
     "traceback": [
      "\u001b[0;31m---------------------------------------------------------------------------\u001b[0m",
      "\u001b[0;31mKeyError\u001b[0m                                  Traceback (most recent call last)",
      "\u001b[0;32m<ipython-input-11-6503b2b55208>\u001b[0m in \u001b[0;36m<module>\u001b[0;34m()\u001b[0m\n\u001b[0;32m----> 1\u001b[0;31m \u001b[0mvizualize_playlist\u001b[0m\u001b[0;34m(\u001b[0m\u001b[0mmost_necessary_uri\u001b[0m\u001b[0;34m)\u001b[0m\u001b[0;34m\u001b[0m\u001b[0m\n\u001b[0m\u001b[1;32m      2\u001b[0m \u001b[0;31m# vizualize_playlist(rap_caviar_uri)\u001b[0m\u001b[0;34m\u001b[0m\u001b[0;34m\u001b[0m\u001b[0m\n\u001b[1;32m      3\u001b[0m \u001b[0;31m# vizualize_playlist(pollen_uri) # danceable, spread valence, spread energy,\u001b[0m\u001b[0;34m\u001b[0m\u001b[0;34m\u001b[0m\u001b[0m\n\u001b[1;32m      4\u001b[0m \u001b[0mvizualize_playlist\u001b[0m\u001b[0;34m(\u001b[0m\u001b[0mskrt_uri\u001b[0m\u001b[0;34m)\u001b[0m\u001b[0;34m\u001b[0m\u001b[0m\n\u001b[1;32m      5\u001b[0m \u001b[0mvizualize_playlist\u001b[0m\u001b[0;34m(\u001b[0m\u001b[0mchill_n_bassy_uri\u001b[0m\u001b[0;34m)\u001b[0m\u001b[0;34m\u001b[0m\u001b[0m\n",
      "\u001b[0;32m<ipython-input-8-ef5f9b8e7f0a>\u001b[0m in \u001b[0;36mvizualize_playlist\u001b[0;34m(playlist_uri, display_songs)\u001b[0m\n\u001b[1;32m      5\u001b[0m     \u001b[0mtrack_results\u001b[0m \u001b[0;34m=\u001b[0m \u001b[0msp\u001b[0m\u001b[0;34m.\u001b[0m\u001b[0m_get\u001b[0m\u001b[0;34m(\u001b[0m\u001b[0;34m\"playlists/%s/tracks\"\u001b[0m \u001b[0;34m%\u001b[0m \u001b[0;34m(\u001b[0m\u001b[0mplid\u001b[0m\u001b[0;34m)\u001b[0m\u001b[0;34m,\u001b[0m \u001b[0mlimit\u001b[0m\u001b[0;34m=\u001b[0m\u001b[0;36m100\u001b[0m\u001b[0;34m,\u001b[0m \u001b[0moffset\u001b[0m\u001b[0;34m=\u001b[0m\u001b[0;36m0\u001b[0m\u001b[0;34m,\u001b[0m\u001b[0mmarket\u001b[0m\u001b[0;34m=\u001b[0m\u001b[0;34m'US'\u001b[0m\u001b[0;34m)\u001b[0m\u001b[0;34m\u001b[0m\u001b[0m\n\u001b[1;32m      6\u001b[0m     \u001b[0mall_song_uris\u001b[0m \u001b[0;34m=\u001b[0m \u001b[0;34m[\u001b[0m\u001b[0mtrack\u001b[0m\u001b[0;34m[\u001b[0m\u001b[0;34mu'track'\u001b[0m\u001b[0;34m]\u001b[0m\u001b[0;34m[\u001b[0m\u001b[0;34mu'uri'\u001b[0m\u001b[0;34m]\u001b[0m \u001b[0;32mfor\u001b[0m \u001b[0mtrack\u001b[0m \u001b[0;32min\u001b[0m \u001b[0mtrack_results\u001b[0m\u001b[0;34m[\u001b[0m\u001b[0;34m'items'\u001b[0m\u001b[0;34m]\u001b[0m\u001b[0;34m]\u001b[0m\u001b[0;34m\u001b[0m\u001b[0m\n\u001b[0;32m----> 7\u001b[0;31m     \u001b[0mfetch_and_viz\u001b[0m\u001b[0;34m(\u001b[0m\u001b[0mall_song_uris\u001b[0m\u001b[0;34m,\u001b[0m \u001b[0mdisplay_songs\u001b[0m\u001b[0;34m)\u001b[0m\u001b[0;34m\u001b[0m\u001b[0m\n\u001b[0m\u001b[1;32m      8\u001b[0m \u001b[0;34m\u001b[0m\u001b[0m\n\u001b[1;32m      9\u001b[0m \u001b[0;32mdef\u001b[0m \u001b[0mvizualize_song\u001b[0m\u001b[0;34m(\u001b[0m\u001b[0msong_uri\u001b[0m\u001b[0;34m)\u001b[0m\u001b[0;34m:\u001b[0m\u001b[0;34m\u001b[0m\u001b[0m\n",
      "\u001b[0;32m<ipython-input-7-105c524d57b8>\u001b[0m in \u001b[0;36mfetch_and_viz\u001b[0;34m(song_uris, display_songs)\u001b[0m\n\u001b[1;32m     31\u001b[0m         \u001b[0;32mif\u001b[0m \u001b[0;34m'key'\u001b[0m \u001b[0;32min\u001b[0m \u001b[0mvals\u001b[0m\u001b[0;34m:\u001b[0m\u001b[0;34m\u001b[0m\u001b[0m\n\u001b[1;32m     32\u001b[0m             \u001b[0mvals\u001b[0m\u001b[0;34m[\u001b[0m\u001b[0;34m'key'\u001b[0m\u001b[0;34m]\u001b[0m \u001b[0;34m/=\u001b[0m \u001b[0mfloat\u001b[0m\u001b[0;34m(\u001b[0m\u001b[0;36m12\u001b[0m\u001b[0;34m)\u001b[0m\u001b[0;34m\u001b[0m\u001b[0m\n\u001b[0;32m---> 33\u001b[0;31m         \u001b[0mvals\u001b[0m\u001b[0;34m[\u001b[0m\u001b[0;34m'loudness'\u001b[0m\u001b[0;34m]\u001b[0m \u001b[0;34m=\u001b[0m \u001b[0mfloat\u001b[0m\u001b[0;34m(\u001b[0m\u001b[0mvals\u001b[0m\u001b[0;34m[\u001b[0m\u001b[0;34m'loudness'\u001b[0m\u001b[0;34m]\u001b[0m \u001b[0;34m+\u001b[0m \u001b[0;36m10\u001b[0m\u001b[0;34m)\u001b[0m \u001b[0;34m/\u001b[0m \u001b[0;36m11\u001b[0m\u001b[0;34m\u001b[0m\u001b[0m\n\u001b[0m\u001b[1;32m     34\u001b[0m \u001b[0;34m\u001b[0m\u001b[0m\n\u001b[1;32m     35\u001b[0m         \u001b[0msong_data\u001b[0m\u001b[0;34m.\u001b[0m\u001b[0mappend\u001b[0m\u001b[0;34m(\u001b[0m\u001b[0;34m[\u001b[0m\u001b[0mvals\u001b[0m\u001b[0;34m[\u001b[0m\u001b[0mf\u001b[0m\u001b[0;34m]\u001b[0m \u001b[0;32mfor\u001b[0m \u001b[0mf\u001b[0m \u001b[0;32min\u001b[0m \u001b[0mfeatures\u001b[0m\u001b[0;34m]\u001b[0m\u001b[0;34m)\u001b[0m \u001b[0;31m# ensure ordering rather than using .values()\u001b[0m\u001b[0;34m\u001b[0m\u001b[0m\n",
      "\u001b[0;31mKeyError\u001b[0m: 'loudness'"
     ]
    }
   ],
   "source": [
    "vizualize_playlist(most_necessary_uri)\n",
    "# vizualize_playlist(rap_caviar_uri)\n",
    "# vizualize_playlist(pollen_uri) # danceable, spread valence, spread energy, \n",
    "vizualize_playlist(skrt_uri)\n",
    "vizualize_playlist(chill_n_bassy_uri)\n",
    "vizualize_playlist(groove_theory_uri)"
   ]
  },
  {
   "cell_type": "code",
   "execution_count": null,
   "metadata": {},
   "outputs": [],
   "source": [
    "### OLD THOUGHTS (FROM MEAN/STD)\n",
    "## Danceability, tempo & speechiness have narrowest std dev. Energy is next \n",
    "# instrumentalness,  liveness and valence have wide std dev for this playlist"
   ]
  },
  {
   "cell_type": "code",
   "execution_count": null,
   "metadata": {},
   "outputs": [],
   "source": [
    "\n",
    "vizualize_playlist(house_home_uri) \n",
    "vizualize_playlist(groove_theory_uri)\n",
    "# vizualize_playlist(pollen_uri)\n",
    "vizualize_playlist('spotify:user:mightytreefolk:playlist:0RKqoL574g9rzdd0HZkfLA') # casual groove"
   ]
  },
  {
   "cell_type": "code",
   "execution_count": null,
   "metadata": {},
   "outputs": [],
   "source": []
  },
  {
   "cell_type": "code",
   "execution_count": 24,
   "metadata": {},
   "outputs": [],
   "source": [
    "def hist_values(seq):\n",
    "    hist = defaultdict(int)\n",
    "    for i in seq:\n",
    "        hist[i] += 1\n",
    "\n",
    "    return hist\n",
    "\n",
    "def get_genres_from_playlst(playlist_uri, top_n=5):\n",
    "    plid = playlist_uri.split(\":\")[-1]\n",
    "    track_results = sp._get(\"playlists/%s/tracks\" % (plid), limit=100, offset=0,market='US')\n",
    "    all_artists = [track[u'track'][u'artists'] for track in track_results['items']]\n",
    "    all_genres = []\n",
    "    uri_dict = {}\n",
    "    for artists in all_artists:\n",
    "        for artist in artists:\n",
    "            artist_full = sp.artist(artist[u'uri'])\n",
    "            if artist_full[u'genres']:\n",
    "                all_genres.extend(artist_full[u'genres'])\n",
    "    top_genres = sorted(hist_values(all_genres).items(),key=lambda a: a[1], reverse=True)[:top_n]\n",
    "    for k,v in top_genres:\n",
    "        print k,float(v)/len(track_results)\n",
    "#     return top_genres"
   ]
  },
  {
   "cell_type": "code",
   "execution_count": null,
   "metadata": {},
   "outputs": [],
   "source": [
    "get_genres_from_playlst(rap_caviar_uri, top_n=10)\n",
    "african_heat_uri = 'spotify:user:spotify:playlist:37i9dQZF1DWYkaDif7Ztbp' # afro\n",
    "get_genres_from_playlst(african_heat_uri, top_n=10)"
   ]
  },
  {
   "cell_type": "code",
   "execution_count": null,
   "metadata": {},
   "outputs": [],
   "source": [
    "get_genres_from_playlst(chill_n_bassy_uri, top_n=10)"
   ]
  },
  {
   "cell_type": "code",
   "execution_count": null,
   "metadata": {},
   "outputs": [],
   "source": [
    "available_genre_seeds = [\"acoustic\", \"afrobeat\",\"alt-rock\",\"alternative\",\"ambient\",\"anime\",\"black-metal\",\"bluegrass\",\"blues\",\"bossanova\",\"brazil\",\"breakbeat\",\"british\",\"cantopop\",\"chicago-house\",\"children\",\"chill\",\"classical\",\"club\",\"comedy\",\"country\",\"dance\",\"dancehall\",\"death-metal\",\"deep-house\",\"detroit-techno\",\"disco\",\"disney\",\"drum-and-bass\",\"dub\",\"dubstep\",\"edm\",\"electro\",\"electronic\",\"emo\",\"folk\",\"forro\",\"french\",\"funk\",\"garage\",\"german\",\"gospel\",\"goth\",\"grindcore\",\"groove\",\"grunge\",\"guitar\",\"happy\",\"hard-rock\",\"hardcore\",\"hardstyle\",\"heavy-metal\",\"hip-hop\",\"holidays\",\"honky-tonk\",\"house\",\"idm\",\"indian\",\"indie\",\"indie-pop\",\"industrial\",\"iranian\",\"j-dance\",\"j-idol\",\"j-pop\",\"j-rock\",\"jazz\",\"k-pop\",\"kids\",\"latin\",\"latino\",\"malay\",\"mandopop\",\"metal\",\"metal-misc\",\"metalcore\",\"minimal-techno\",\"movies\",\"mpb\",\"new-age\",\"new-release\",\"opera\",\"pagode\",\"party\",\"philippines-opm\",\"piano\",\"pop\",\"pop-film\",\"post-dubstep\",\"power-pop\",\"progressive-house\",\"psych-rock\",\"punk\",\"punk-rock\",\"r-n-b\",\"rainy-day\",\"reggae\",\"reggaeton\",\"road-trip\",\"rock\",\"rock-n-roll\",\"rockabilly\",\"romance\",\"sad\",\"salsa\",\"samba\",\"sertanejo\",\"show-tunes\",\"singer-songwriter\",\"ska\",\"sleep\",\"songwriter\",\"soul\",\"soundtracks\",\"spanish\",\"study\",\"summer\",\"swedish\",\"synth-pop\",\"tango\",\"techno\",\"trance\",\"trip-hop\",\"turkish\",\"work-out\",\"world-music\"]"
   ]
  },
  {
   "cell_type": "code",
   "execution_count": null,
   "metadata": {},
   "outputs": [],
   "source": [
    "def do_rec_filtering(seed_artists, seed_genres, seed_tracks, seed_playlist):\n",
    "    \n",
    "    sp.recommendations(self, seed_artists, seed_genres,seed_tracks, limit, country, **kwargs)"
   ]
  },
  {
   "cell_type": "markdown",
   "metadata": {},
   "source": [
    "## Section 2 Visualization"
   ]
  },
  {
   "cell_type": "code",
   "execution_count": null,
   "metadata": {},
   "outputs": [],
   "source": []
  },
  {
   "cell_type": "code",
   "execution_count": null,
   "metadata": {},
   "outputs": [],
   "source": []
  },
  {
   "cell_type": "code",
   "execution_count": null,
   "metadata": {},
   "outputs": [],
   "source": [
    "# Correlation Matrix Heatmap\n",
    "f, ax = plt.subplots(figsize=(10, 6))\n",
    "corr = wines.corr()\n",
    "hm = sns.heatmap(round(corr,2), annot=True, ax=ax, cmap=\"coolwarm\",fmt='.2f',\n",
    "                 linewidths=.05)\n",
    "f.subplots_adjust(top=0.93)\n",
    "t= f.suptitle('Wine Attributes Correlation Heatmap', fontsize=14)"
   ]
  },
  {
   "cell_type": "code",
   "execution_count": null,
   "metadata": {},
   "outputs": [],
   "source": [
    "## Line plot (best with 2 colors for different datasets, need a lot of similar examples)\n",
    "# Scaling attribute values to avoid few outiers\n",
    "cols = ['density', 'residual sugar', 'total sulfur dioxide', 'fixed acidity']\n",
    "subset_df = wines[cols]\n",
    "\n",
    "from sklearn.preprocessing import StandardScaler\n",
    "ss = StandardScaler()\n",
    "\n",
    "scaled_df = ss.fit_transform(subset_df)\n",
    "scaled_df = pd.DataFrame(scaled_df, columns=cols)\n",
    "final_df = pd.concat([scaled_df, wines['wine_type']], axis=1)\n",
    "final_df.head()\n",
    "\n",
    "# plot parallel coordinates\n",
    "from pandas.plotting import parallel_coordinates\n",
    "pc = parallel_coordinates(final_df, 'wine_type', color=('#FFE888', '#FF9999'))"
   ]
  },
  {
   "cell_type": "code",
   "execution_count": null,
   "metadata": {},
   "outputs": [],
   "source": [
    "def analyze_region(): kms clustering on segments (timbre and pitch vectors) to separate into sound bytes if you will that are repeated - then you can display the timbre/pitch of these segments as well as play the via song playback at exact ms position\n",
    "    \n",
    "    save these segment_groups as compressed, synthesized information on database\n",
    "    "
   ]
  },
  {
   "cell_type": "code",
   "execution_count": null,
   "metadata": {},
   "outputs": [],
   "source": [
    "## FREE WORK SPACE\n",
    "sp.artist('spotify:artist:4WUGQykLBGFfsl0Qjl6TDM') # the magician\n",
    "sp.artist('spotify:artist:0DdDnziut7wOo6cAYWVZC5') # KREAM"
   ]
  },
  {
   "cell_type": "code",
   "execution_count": null,
   "metadata": {},
   "outputs": [],
   "source": [
    "genre based segment clustering and replay to vizualize the sound of a a song but then also a genre? and then a playlist below a genre\n",
    "\n",
    "\n",
    "how to process vector based data like timbre/pitch --> pca? clustering? timbre will probably be more indicative of genre because pitch is everywhere for all songs but for matching \"notes\" of songs the  \n",
    "what is difference between single song viz and genre/playlist"
   ]
  },
  {
   "cell_type": "code",
   "execution_count": null,
   "metadata": {},
   "outputs": [],
   "source": [
    "Song jumper like being able to programattically pick songs that would be good to mix into based on mixed in key logic/guide\n",
    "Know that tempo, valence, energy & key will be important\n",
    "It could suggest songs - java android app could live on phone - hear song and grab track id from shazam - spotify uri - features - suggest\n"
   ]
  },
  {
   "cell_type": "code",
   "execution_count": null,
   "metadata": {
    "scrolled": true
   },
   "outputs": [],
   "source": [
    "tf = sp.audio_features('spotify:track:339dwcSBa8oxVZxicvJG3c')[0]\n",
    "t = sp.track('spotify:track:339dwcSBa8oxVZxicvJG3c')\n",
    "def disp_key_info(tf):\n",
    "    k = to_key(tf['key']) + [\" Major\", \" Minor\"][tf['mode']]\n",
    "    t = str(round(tf['tempo']))\n",
    "    e = str(round(tf['energy'] * 10, 1))\n",
    "    print(k + \" \" + t + \" \" + e)\n",
    "    \n",
    "def disp_plist_info(playlist_uri):\n",
    "    plid = playlist_uri.split(\":\")[-1]\n",
    "    plist =  sp._get(\"playlists/%s\" % (plid))\n",
    "    print(plist['name'])\n",
    "    track_results = sp._get(\"playlists/%s/tracks\" % (plid), limit=100, offset=0,market='US')['items']\n",
    "    c = 0\n",
    "    for t in sp.audio_features([t['track']['uri'] for t in track_results]):\n",
    "#         print(track_results[c]['track']['name'])\n",
    "        disp_key_info(t)\n",
    "        c += 1\n",
    "    \n",
    "mag_cle_uri = 'spotify:user:james.hoke.peacock:playlist:0KTNO7GW51S0kFE4jhjaEK'\n",
    "this_chris_lake = 'spotify:user:spotify:playlist:37i9dQZF1DZ06evO3mGMY8'\n",
    "disp_plist_info(this_chris_lake)"
   ]
  },
  {
   "cell_type": "code",
   "execution_count": null,
   "metadata": {},
   "outputs": [],
   "source": [
    "def get_headers():\n",
    "    return {\"Accept\":\"application/json\", \"Content-Type\":\"application/json\",\"Authorization\": \"Bearer %s\" % token}\n",
    "\n",
    "def recs(seed_artists=None, seed_genres=None,seed_tracks=None, limit=20, country=None, **kwargs):\n",
    "    params = dict(limit=limit)\n",
    "    if seed_artists:\n",
    "        params['seed_artists'] = ','.join([sp._get_id('artist', a) for a in seed_artists])\n",
    "    if seed_genres:\n",
    "        params['seed_genres'] = ','.join(seed_genres)\n",
    "    if seed_tracks:\n",
    "        params['seed_tracks'] = ','.join([sp._get_id('track', t) for t in seed_tracks])\n",
    "    if country:\n",
    "        params['market'] = country\n",
    "    \n",
    "    print(params)\n",
    "\n",
    "    for attribute in [\"acousticness\", \"danceability\", \"duration_ms\",\n",
    "                      \"energy\", \"instrumentalness\", \"key\", \"liveness\",\n",
    "                      \"loudness\", \"mode\", \"popularity\", \"speechiness\",\n",
    "                      \"tempo\", \"time_signature\", \"valence\"]:\n",
    "        for prefix in [\"min_\", \"max_\", \"target_\"]:\n",
    "            param = prefix + attribute\n",
    "            if param in kwargs:\n",
    "                params[param] = kwargs[param]\n",
    "    args = dict(params=params)\n",
    "    headers = get_headers()\n",
    "    return requests.get(\"https://api.spotify.com/v1/recommendations\", headers=get_headers(), params=params).text"
   ]
  },
  {
   "cell_type": "code",
   "execution_count": null,
   "metadata": {},
   "outputs": [],
   "source": [
    "tch = \"1KpCi9BOfviCVhmpI4G2sY\"\n",
    "nicky = \"5ChF3i92IPZHduM7jN3dpg\"\n",
    "oliver = \"5nki7yRhxgM509M5ADlN1p\"\n",
    "# recs(seed_artists=[tch], limit=10, country=\"US\")#, target_energy=6, max_energy=7.5, target_danceability=8, min_danceability=6)\n",
    "\n",
    "recss = sp.recommendations(seed_artists=[oliver], limit=50, country=\"US\", max_energy=5)#, target_danceability=8)#, min_danceability=6))\n",
    "for r in recss['tracks']:\n",
    "#     print(r)\n",
    "    print(r['name'] + \" - \" + str([a['name'] for a in r['artists']]))\n",
    "    ft = sp.audio_features([r['uri']])[0]\n",
    "    if ft['energy'] < .9:\n",
    "        disp_key_info(ft)\n",
    "    "
   ]
  },
  {
   "cell_type": "code",
   "execution_count": null,
   "metadata": {},
   "outputs": [],
   "source": [
    "import requests\n",
    "print(requests.get(\"https://api.spotify.com/v1/recommendations?country=US&limit=20&seed_artists=1KpCi9BOfviCVhmpI4G2sY\", headers=get_headers()).text)\n",
    "\n",
    "\n",
    "def disp_recs_info(song_uris):\n",
    "    track_results = sp.tracks(song_uris)['items']\n",
    "    c = 0\n",
    "    for t in sp.audio_features([t['track']['uri'] for t in track_results]):\n",
    "#         print(track_results[c]['track']['name'])\n",
    "        disp_key_info(t)\n",
    "        c += 1\n"
   ]
  },
  {
   "cell_type": "code",
   "execution_count": null,
   "metadata": {},
   "outputs": [],
   "source": []
  }
 ],
 "metadata": {
  "kernelspec": {
   "display_name": "Python 2",
   "language": "python",
   "name": "python2"
  },
  "language_info": {
   "codemirror_mode": {
    "name": "ipython",
    "version": 2
   },
   "file_extension": ".py",
   "mimetype": "text/x-python",
   "name": "python",
   "nbconvert_exporter": "python",
   "pygments_lexer": "ipython2",
   "version": "2.7.14"
  }
 },
 "nbformat": 4,
 "nbformat_minor": 2
}
