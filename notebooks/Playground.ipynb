{
 "cells": [
  {
   "cell_type": "code",
   "execution_count": 8,
   "metadata": {},
   "outputs": [
    {
     "name": "stdout",
     "output_type": "stream",
     "text": [
      "\u001b[33mDEPRECATION: Python 2.7 will reach the end of its life on January 1st, 2020. Please upgrade your Python as Python 2.7 won't be maintained after that date. A future version of pip will drop support for Python 2.7.\u001b[0m\n",
      "Requirement already up-to-date: pip in /Users/jakepeacock/anaconda/envs/py27/lib/python2.7/site-packages (19.0.3)\n",
      "\u001b[33mDEPRECATION: Python 2.7 will reach the end of its life on January 1st, 2020. Please upgrade your Python as Python 2.7 won't be maintained after that date. A future version of pip will drop support for Python 2.7.\u001b[0m\n",
      "Requirement already satisfied: spotipy in /Users/jakepeacock/anaconda/envs/py27/lib/python2.7/site-packages (2.4.4)\n",
      "Requirement already satisfied: requests>=1.0 in /Users/jakepeacock/anaconda/envs/py27/lib/python2.7/site-packages (from spotipy) (2.20.1)\n",
      "Requirement already satisfied: chardet<3.1.0,>=3.0.2 in /Users/jakepeacock/anaconda/envs/py27/lib/python2.7/site-packages (from requests>=1.0->spotipy) (3.0.4)\n",
      "Requirement already satisfied: certifi>=2017.4.17 in /Users/jakepeacock/anaconda/envs/py27/lib/python2.7/site-packages (from requests>=1.0->spotipy) (2017.11.5)\n",
      "Requirement already satisfied: urllib3<1.25,>=1.21.1 in /Users/jakepeacock/anaconda/envs/py27/lib/python2.7/site-packages (from requests>=1.0->spotipy) (1.24.1)\n",
      "Requirement already satisfied: idna<2.8,>=2.5 in /Users/jakepeacock/anaconda/envs/py27/lib/python2.7/site-packages (from requests>=1.0->spotipy) (2.7)\n",
      "BQCWpUOk8qCG721YeV-jQBFibzK8ZFd7QBGxdhorumDaQNxpDPcJiSJ6Zo-xQh9VU8sjHJqz5XRaeZ32-xdhbKmFMt_YAs0_fOruZZekwZswr0jPR7ZVCaEkalPDk_bnRUL0iEZv-ZG14Bak_YY0k73osR9AIgahn1BGV08UD5QkNomGTUPWJwf4EV3fZAQaMZ8Ru1RtTr1MxUemn0pxlmiTN7GXlef5458I\n"
     ]
    }
   ],
   "source": [
    "import sys\n",
    "!{sys.executable} -m pip install --upgrade pip\n",
    "!{sys.executable} -m pip install spotipy\n",
    "import itertools\n",
    "import numpy as np\n",
    "import spotipy\n",
    "import spotipy.util\n",
    "\n",
    "# Create your own Spotify app to get the ID and secret.\n",
    "# https://beta.developer.spotify.com/dashboard/applications\n",
    "CLIENT_ID = '06fdc33f688440e6bff40f6eb930f21c'\n",
    "CLIENT_SECRET = 'f83c328423054a73a3daa9ae9045e538'\n",
    "\n",
    "# Put your Spotify username here.\n",
    "USERNAME = 'james.hoke.peacock'\n",
    "\n",
    "REDIRECT_URI = 'http://localhost/'\n",
    "SCOPE = 'user-library-read playlist-modify-public'\n",
    "\n",
    "# Create a Spotify client that can access my saved song information.\n",
    "token = spotipy.util.prompt_for_user_token(USERNAME,\n",
    "                                           SCOPE,\n",
    "                                           client_id=CLIENT_ID,\n",
    "                                           client_secret=CLIENT_SECRET,\n",
    "                                           redirect_uri=REDIRECT_URI)\n",
    "\n",
    "sp = spotipy.Spotify(auth=token)\n",
    "print(token)"
   ]
  },
  {
   "cell_type": "raw",
   "metadata": {},
   "source": [
    "## Grab list of tracks based on artist name and/or track name\n",
    "  # Display features for that song (bpm, key, genre first)\n",
    "  # Show link for song preview\n",
    "  # Show num_plays --> category of popularity\n",
    "  # "
   ]
  },
  {
   "cell_type": "raw",
   "metadata": {},
   "source": [
    "## Generate song list from seed tracks and parameters\n",
    "  # Params: popularity, feature similarity importance, (YAY spotify api can do this)\n",
    "  # generate lots of songs and filter down by euclidean distance by most important features etc. \n",
    "  # -- this will take lots of iteration and tweaking"
   ]
  },
  {
   "cell_type": "raw",
   "metadata": {},
   "source": [
    "## From a playlist generate plots that show differences/similarities in\n",
    "  # tempo - key - genre(s) - danceability - energy "
   ]
  },
  {
   "cell_type": "raw",
   "metadata": {},
   "source": [
    "## Map key & tempo to human readable values"
   ]
  },
  {
   "cell_type": "raw",
   "metadata": {},
   "source": [
    "# Grab & display album art, name, artist, listens, popularity, features (selectable)"
   ]
  }
 ],
 "metadata": {
  "kernelspec": {
   "display_name": "Python 2",
   "language": "python",
   "name": "python2"
  },
  "language_info": {
   "codemirror_mode": {
    "name": "ipython",
    "version": 2
   },
   "file_extension": ".py",
   "mimetype": "text/x-python",
   "name": "python",
   "nbconvert_exporter": "python",
   "pygments_lexer": "ipython2",
   "version": "2.7.14"
  }
 },
 "nbformat": 4,
 "nbformat_minor": 2
}
